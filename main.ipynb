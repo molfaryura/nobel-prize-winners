{
 "cells": [
  {
   "attachments": {},
   "cell_type": "markdown",
   "metadata": {},
   "source": [
    "# Analysis and visualization data of Nobel Prize laureates using pandas and matplotlib."
   ]
  },
  {
   "cell_type": "code",
   "execution_count": 99,
   "metadata": {},
   "outputs": [],
   "source": [
    "import pandas as pd\n",
    "import matplotlib.pyplot as plt"
   ]
  },
  {
   "cell_type": "code",
   "execution_count": null,
   "metadata": {},
   "outputs": [],
   "source": [
    "df = pd.read_csv('nobel_latest.csv')"
   ]
  },
  {
   "cell_type": "markdown",
   "metadata": {},
   "source": [
    "### Number of Nobel Prize laureates by gender"
   ]
  },
  {
   "cell_type": "code",
   "execution_count": null,
   "metadata": {},
   "outputs": [],
   "source": [
    "winners_by_gender = df['Gender'].value_counts()\n",
    "\n",
    "plt.xlabel('Gender', fontsize=14, labelpad=10)\n",
    "plt.ylabel('Number of winners', fontsize=14, labelpad=10)\n",
    "\n",
    "winners_by_gender_plot = plt.bar(winners_by_gender.index[:-1], winners_by_gender.values[:-1])"
   ]
  },
  {
   "attachments": {},
   "cell_type": "markdown",
   "metadata": {},
   "source": [
    "### Top 20 countries by Nobel Prize laureates"
   ]
  },
  {
   "cell_type": "code",
   "execution_count": null,
   "metadata": {},
   "outputs": [],
   "source": [
    "top_20_winners_by_country = df['Birth_Country'].value_counts()\n",
    "\n",
    "plt.figure(figsize=(20, 5))\n",
    "plt.xlabel('Country', fontsize=14, labelpad=10)\n",
    "plt.ylabel('Number of winners', fontsize=14, labelpad=10)\n",
    "plt.xticks(rotation=45, ha='right')\n",
    "\n",
    "top_20_winners_by_country_plot = plt.bar(top_20_winners_by_country.index[:20], top_20_winners_by_country.values[:20], align='center')"
   ]
  }
 ],
 "metadata": {
  "kernelspec": {
   "display_name": "env",
   "language": "python",
   "name": "python3"
  },
  "language_info": {
   "codemirror_mode": {
    "name": "ipython",
    "version": 3
   },
   "file_extension": ".py",
   "mimetype": "text/x-python",
   "name": "python",
   "nbconvert_exporter": "python",
   "pygments_lexer": "ipython3",
   "version": "3.10.6"
  },
  "orig_nbformat": 4
 },
 "nbformat": 4,
 "nbformat_minor": 2
}
