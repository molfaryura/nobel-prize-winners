{
 "cells": [
  {
   "attachments": {},
   "cell_type": "markdown",
   "metadata": {},
   "source": [
    "# Analysis and visualization data of Nobel Prize laureates using pandas and matplotlib.\n",
    "##### Data was take from here: https://www.kaggle.com/code/romanppp1/working-with-nobel-prize-data"
   ]
  },
  {
   "cell_type": "code",
   "execution_count": 72,
   "metadata": {},
   "outputs": [],
   "source": [
    "import pandas as pd\n",
    "import matplotlib.pyplot as plt"
   ]
  },
  {
   "cell_type": "code",
   "execution_count": 73,
   "metadata": {},
   "outputs": [],
   "source": [
    "df = pd.read_csv('nobel_latest.csv')"
   ]
  },
  {
   "cell_type": "markdown",
   "metadata": {},
   "source": [
    "### Number of Nobel Prize laureates by gender"
   ]
  },
  {
   "cell_type": "code",
   "execution_count": null,
   "metadata": {},
   "outputs": [],
   "source": [
    "winners_by_gender = df['Gender'].value_counts()\n",
    "\n",
    "plt.title('Nobel Prize laureates by gender', fontsize=14, fontweight='bold')\n",
    "plt.xlabel('Gender', fontsize=14, labelpad=10)\n",
    "plt.ylabel('Number of winners', fontsize=14, labelpad=10)\n",
    "\n",
    "winners_by_gender_plot = plt.bar(winners_by_gender.index[:-1], winners_by_gender.values[:-1])"
   ]
  },
  {
   "attachments": {},
   "cell_type": "markdown",
   "metadata": {},
   "source": [
    "### Top 20 countries by Nobel Prize laureates"
   ]
  },
  {
   "cell_type": "code",
   "execution_count": null,
   "metadata": {},
   "outputs": [],
   "source": [
    "country_counts = df['Birth_Country'].value_counts()\n",
    "top_20_winners_by_country = country_counts.index[:20]\n",
    "top_20_number_of_laureates = country_counts.values[:20]\n",
    "\n",
    "plt.figure(figsize=(20, 5))\n",
    "plt.title('Top 20 countries by Nobel laureates', fontweight='bold')\n",
    "plt.xlabel('Country', fontsize=14, labelpad=10)\n",
    "plt.ylabel('Number of winners', fontsize=14, labelpad=10)\n",
    "plt.xticks(rotation=45, ha='right')\n",
    "\n",
    "top_20_winners_by_country_plot = plt.bar(top_20_winners_by_country, top_20_number_of_laureates, align='center')"
   ]
  },
  {
   "attachments": {},
   "cell_type": "markdown",
   "metadata": {},
   "source": [
    "### Top 1 country by Nobel Prize laureates\n",
    "#### USA has the most Nobel laureates. The most awarded in one year was 8, these were 1972, 1990 and 2001.\n",
    "##### 1972:\n",
    "- The United States and Soviet Union sign the Anti-Ballistic Missile (ABM) Treaty\n",
    "- NASA’s Space Shuttle Program is officially launched\n",
    "##### 1990:\n",
    "- NASA’s STS-31 mission deploys the Hubble Space Telescope during April.\n",
    "- The joint ESA / NASA space probe \"Ulysses\" was launched.\n",
    "##### 2001:\n",
    "- George W. Bush became a president.\n",
    "- September 11 attacks by Al-Qaeda, which killed 2,977 people and instigated the global war on terror."
   ]
  },
  {
   "cell_type": "code",
   "execution_count": null,
   "metadata": {},
   "outputs": [],
   "source": [
    "top_1_country = country_counts.head(1).index[0]\n",
    "filtered_data = df[df['Birth_Country'] == top_1_country]\n",
    "\n",
    "grouped_data = filtered_data.groupby('Year').size()\n",
    "\n",
    "years_with_prizes = grouped_data.index\n",
    "number_of_laureates = grouped_data.values\n",
    "\n",
    "max_laureates = max(number_of_laureates)\n",
    "\n",
    "colors = ['steelblue' if val != max_laureates else 'black' for val in number_of_laureates]\n",
    "\n",
    "plt.figure(figsize=(25, 10))\n",
    "plt.xticks(years_with_prizes, rotation=90, ha='center',fontsize=12)\n",
    "plt.yticks(number_of_laureates, fontsize=12)\n",
    "\n",
    "plt.bar(years_with_prizes, number_of_laureates, width=0.6, align='center', color=colors)\n",
    "\n",
    "plt.xlabel('Year', fontsize=16, labelpad=20)\n",
    "plt.ylabel('Number of Nobel Prizes', fontsize=16, labelpad=20)\n",
    "plt.title(f'Nobel Prizes for {top_1_country}', fontsize=16, fontweight='bold')\n",
    "plt.tight_layout()\n",
    "\n",
    "for i, val in enumerate(number_of_laureates):\n",
    "    if val == max_laureates:\n",
    "        plt.text(years_with_prizes[i], val, str(years_with_prizes[i]), ha='right', va='bottom', fontsize=12, color='red', fontweight='bold')\n",
    "\n",
    "plt.show()"
   ]
  }
 ],
 "metadata": {
  "kernelspec": {
   "display_name": "env",
   "language": "python",
   "name": "python3"
  },
  "language_info": {
   "codemirror_mode": {
    "name": "ipython",
    "version": 3
   },
   "file_extension": ".py",
   "mimetype": "text/x-python",
   "name": "python",
   "nbconvert_exporter": "python",
   "pygments_lexer": "ipython3",
   "version": "3.10.6"
  },
  "orig_nbformat": 4
 },
 "nbformat": 4,
 "nbformat_minor": 2
}
